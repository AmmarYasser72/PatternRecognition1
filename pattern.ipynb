{
 "cells": [
  {
   "cell_type": "code",
   "execution_count": 90,
   "metadata": {},
   "outputs": [
    {
     "name": "stdout",
     "output_type": "stream",
     "text": [
      "Note: you may need to restart the kernel to use updated packages.Requirement already satisfied: pandas in c:\\users\\fares mohamed\\appdata\\local\\programs\\python\\python312\\lib\\site-packages (2.1.4)\n",
      "Requirement already satisfied: numpy<2,>=1.26.0 in c:\\users\\fares mohamed\\appdata\\local\\programs\\python\\python312\\lib\\site-packages (from pandas) (1.26.2)\n",
      "Requirement already satisfied: python-dateutil>=2.8.2 in c:\\users\\fares mohamed\\appdata\\local\\programs\\python\\python312\\lib\\site-packages (from pandas) (2.8.2)\n",
      "Requirement already satisfied: pytz>=2020.1 in c:\\users\\fares mohamed\\appdata\\local\\programs\\python\\python312\\lib\\site-packages (from pandas) (2023.3.post1)\n",
      "Requirement already satisfied: tzdata>=2022.1 in c:\\users\\fares mohamed\\appdata\\local\\programs\\python\\python312\\lib\\site-packages (from pandas) (2023.3)\n",
      "Requirement already satisfied: six>=1.5 in c:\\users\\fares mohamed\\appdata\\local\\programs\\python\\python312\\lib\\site-packages (from python-dateutil>=2.8.2->pandas) (1.16.0)\n",
      "\n"
     ]
    },
    {
     "name": "stderr",
     "output_type": "stream",
     "text": [
      "\n",
      "[notice] A new release of pip is available: 23.3.2 -> 24.0\n",
      "[notice] To update, run: python.exe -m pip install --upgrade pip\n"
     ]
    }
   ],
   "source": [
    "pip install pandas \n"
   ]
  },
  {
   "cell_type": "code",
   "execution_count": 91,
   "metadata": {},
   "outputs": [
    {
     "name": "stdout",
     "output_type": "stream",
     "text": [
      "Requirement already satisfied: scikit-learn in c:\\users\\fares mohamed\\appdata\\local\\programs\\python\\python312\\lib\\site-packages (1.4.1.post1)\n",
      "Requirement already satisfied: numpy<2.0,>=1.19.5 in c:\\users\\fares mohamed\\appdata\\local\\programs\\python\\python312\\lib\\site-packages (from scikit-learn) (1.26.2)\n",
      "Requirement already satisfied: scipy>=1.6.0 in c:\\users\\fares mohamed\\appdata\\local\\programs\\python\\python312\\lib\\site-packages (from scikit-learn) (1.11.4)\n",
      "Requirement already satisfied: joblib>=1.2.0 in c:\\users\\fares mohamed\\appdata\\local\\programs\\python\\python312\\lib\\site-packages (from scikit-learn) (1.3.2)\n",
      "Requirement already satisfied: threadpoolctl>=2.0.0 in c:\\users\\fares mohamed\\appdata\\local\\programs\\python\\python312\\lib\\site-packages (from scikit-learn) (3.3.0)\n",
      "Note: you may need to restart the kernel to use updated packages.\n"
     ]
    },
    {
     "name": "stderr",
     "output_type": "stream",
     "text": [
      "\n",
      "[notice] A new release of pip is available: 23.3.2 -> 24.0\n",
      "[notice] To update, run: python.exe -m pip install --upgrade pip\n"
     ]
    }
   ],
   "source": [
    "pip install scikit-learn"
   ]
  },
  {
   "cell_type": "code",
   "execution_count": 92,
   "metadata": {},
   "outputs": [],
   "source": [
    "import pandas as pd\n",
    "from sklearn.model_selection import train_test_split\n",
    "from sklearn.naive_bayes import GaussianNB\n",
    "from sklearn.metrics import confusion_matrix"
   ]
  },
  {
   "cell_type": "markdown",
   "metadata": {},
   "source": [
    "# Load the data"
   ]
  },
  {
   "cell_type": "code",
   "execution_count": 93,
   "metadata": {},
   "outputs": [
    {
     "name": "stdout",
     "output_type": "stream",
     "text": [
      "   age          workclass  fnlwgt   education  education-num  \\\n",
      "0   39          State-gov   77516   Bachelors             13   \n",
      "1   50   Self-emp-not-inc   83311   Bachelors             13   \n",
      "2   38            Private  215646     HS-grad              9   \n",
      "3   53            Private  234721        11th              7   \n",
      "4   28            Private  338409   Bachelors             13   \n",
      "\n",
      "        marital-status          occupation    relationship    race      sex  \\\n",
      "0        Never-married        Adm-clerical   Not-in-family   White     Male   \n",
      "1   Married-civ-spouse     Exec-managerial         Husband   White     Male   \n",
      "2             Divorced   Handlers-cleaners   Not-in-family   White     Male   \n",
      "3   Married-civ-spouse   Handlers-cleaners         Husband   Black     Male   \n",
      "4   Married-civ-spouse      Prof-specialty            Wife   Black   Female   \n",
      "\n",
      "   capital-gain  capital-loss  hours-per-week  native-country  income  \n",
      "0          2174             0              40   United-States   <=50K  \n",
      "1             0             0              13   United-States   <=50K  \n",
      "2             0             0              40   United-States   <=50K  \n",
      "3             0             0              40   United-States   <=50K  \n",
      "4             0             0              40            Cuba   <=50K  \n",
      "\n",
      "\n",
      "Shape of train_data before dropping: (32561, 15)\n",
      "......................................................................................\n",
      "   age   workclass  fnlwgt      education  education-num       marital-status  \\\n",
      "0   38     Private   89814        HS-grad              9   Married-civ-spouse   \n",
      "1   28   Local-gov  336951     Assoc-acdm             12   Married-civ-spouse   \n",
      "2   44     Private  160323   Some-college             10   Married-civ-spouse   \n",
      "3   18         NaN  103497   Some-college             10        Never-married   \n",
      "4   34     Private  198693           10th              6        Never-married   \n",
      "\n",
      "           occupation    relationship    race      sex  capital-gain  \\\n",
      "0     Farming-fishing         Husband   White     Male             0   \n",
      "1     Protective-serv         Husband   White     Male             0   \n",
      "2   Machine-op-inspct         Husband   Black     Male          7688   \n",
      "3                 NaN       Own-child   White   Female             0   \n",
      "4       Other-service   Not-in-family   White     Male             0   \n",
      "\n",
      "   capital-loss  hours-per-week  native-country   income  \n",
      "0             0              50   United-States   <=50K.  \n",
      "1             0              40   United-States    >50K.  \n",
      "2             0              40   United-States    >50K.  \n",
      "3             0              30   United-States   <=50K.  \n",
      "4             0              30   United-States   <=50K.  \n",
      "\n",
      "\n",
      "Shape of test_data before dropping: (16280, 15)\n"
     ]
    }
   ],
   "source": [
    "train_file_path = \"D:\\\\Pattern Recognition\\\\adult.data\"\n",
    "test_file_path = \"D:\\\\Pattern Recognition\\\\adult.test\"\n",
    "# Define column names\n",
    "columns = [\"age\", \"workclass\", \"fnlwgt\", \"education\", \"education-num\", \"marital-status\", \n",
    "           \"occupation\", \"relationship\", \"race\", \"sex\", \"capital-gain\", \"capital-loss\", \n",
    "           \"hours-per-week\", \"native-country\", \"income\"]\n",
    "\n",
    "train_data = pd.read_csv(train_file_path, header=None, names=columns, na_values=\" ?\")\n",
    "test_data = pd.read_csv(test_file_path, header=1, names=columns, na_values=\" ?\") # Skip row 1 \n",
    "\n",
    "print(train_data.head())\n",
    "print(\"\\n\")\n",
    "print(\"Shape of train_data before dropping:\", train_data.shape)\n",
    "print(\"......................................................................................\")\n",
    "print(test_data.head())\n",
    "print(\"\\n\")\n",
    "print(\"Shape of test_data before dropping:\", test_data.shape)\n"
   ]
  },
  {
   "cell_type": "markdown",
   "metadata": {},
   "source": [
    "# Drop rows with missing values"
   ]
  },
  {
   "cell_type": "code",
   "execution_count": 94,
   "metadata": {},
   "outputs": [
    {
     "name": "stdout",
     "output_type": "stream",
     "text": [
      "Shape of train_data after dropping: (30162, 15)\n",
      "Shape of test_data after dropping: (15059, 15)\n"
     ]
    }
   ],
   "source": [
    "train_data.dropna(inplace=True)\n",
    "test_data.dropna(inplace=True)\n",
    "\n",
    "# Output shape after dropping\n",
    "print(\"Shape of train_data after dropping:\", train_data.dropna().shape)\n",
    "print(\"Shape of test_data after dropping:\", test_data.dropna().shape)\n",
    "\n"
   ]
  },
  {
   "cell_type": "markdown",
   "metadata": {},
   "source": [
    "# One-hot encode categorical variables"
   ]
  },
  {
   "cell_type": "code",
   "execution_count": 95,
   "metadata": {},
   "outputs": [
    {
     "name": "stdout",
     "output_type": "stream",
     "text": [
      "Shape of X_train: (30162, 104)\n",
      "Shape of y_train: (30162,)\n",
      "Shape of X_test: (15059, 104)\n",
      "Shape of y_test: (15059,)\n"
     ]
    }
   ],
   "source": [
    "\n",
    "# Convert income column to binary\n",
    "train_data[\"income\"] = train_data[\"income\"].apply(lambda x: 1 if x == ' >50K' else 0)\n",
    "test_data[\"income\"] = test_data[\"income\"].apply(lambda x: 1 if x == ' >50K.' else 0)\n",
    "\n",
    "# One-hot encode \n",
    "combined_data = pd.concat([train_data, test_data])\n",
    "combined_data = pd.get_dummies(combined_data, columns=[\"workclass\", \"education\", \"marital-status\", \n",
    "                                                       \"occupation\", \"relationship\", \"race\", \"sex\", \"native-country\"])\n",
    "\n",
    "# Split the combined data back into training and testing sets\n",
    "X_train = combined_data[:len(train_data)].drop(\"income\", axis=1)\n",
    "y_train = combined_data[:len(train_data)][\"income\"]\n",
    "X_test = combined_data[len(train_data):].drop(\"income\", axis=1)\n",
    "y_test = combined_data[len(train_data):][\"income\"]\n",
    "\n",
    "# Display the shapes of training and testing data\n",
    "print(\"Shape of X_train:\", X_train.shape)\n",
    "print(\"Shape of y_train:\", y_train.shape)\n",
    "print(\"Shape of X_test:\", X_test.shape)\n",
    "print(\"Shape of y_test:\", y_test.shape)"
   ]
  },
  {
   "cell_type": "markdown",
   "metadata": {},
   "source": [
    "# Compute Sensitivity and Specificity"
   ]
  },
  {
   "cell_type": "code",
   "execution_count": 96,
   "metadata": {},
   "outputs": [
    {
     "name": "stdout",
     "output_type": "stream",
     "text": [
      "Sensitivity: 0.3062162162162162\n",
      "Specificity: 0.9458579100272911\n"
     ]
    }
   ],
   "source": [
    "# Train Naive Bayes Classifier\n",
    "nb_classifier = GaussianNB()\n",
    "nb_classifier.fit(X_train, y_train)\n",
    "\n",
    "# Predict income level for testing data\n",
    "y_pred = nb_classifier.predict(X_test)\n",
    "\n",
    "# Compute Sensitivity and Specificity\n",
    "conf_matrix = confusion_matrix(y_test, y_pred)\n",
    "\n",
    "# Check if the confusion matrix has multiple rows (indicating predictions for both classes)\n",
    "if conf_matrix.shape[0] < 2:\n",
    "    print(\"Error: Confusion matrix has only one row, indicating predictions for only one class.\")\n",
    "else:\n",
    "    # Extract values from confusion matrix\n",
    "    TP = conf_matrix[1, 1]\n",
    "    FP = conf_matrix[0, 1]\n",
    "    TN = conf_matrix[0, 0]\n",
    "    FN = conf_matrix[1, 0]\n",
    " \n",
    "    sensitivity = TP / (TP + FN)\n",
    "    specificity = TN / (TN + FP)\n",
    "\n",
    "    print(\"Sensitivity:\", sensitivity)\n",
    "    print(\"Specificity:\", specificity)"
   ]
  },
  {
   "cell_type": "markdown",
   "metadata": {},
   "source": [
    "# Compute the posterior probability of making over 50K a year"
   ]
  },
  {
   "cell_type": "code",
   "execution_count": 97,
   "metadata": {},
   "outputs": [
    {
     "name": "stdout",
     "output_type": "stream",
     "text": [
      "Posterior Probabilities of making over 50K a year:\n",
      "[0.01595412 0.00665536 1.         ... 0.02297512 0.99999491 0.02961601]\n"
     ]
    }
   ],
   "source": [
    "# Predict probabilities for testing data\n",
    "posterior_probs = nb_classifier.predict_proba(X_test)\n",
    "\n",
    "# Extract the probability of the positive class (making over 50K a year)\n",
    "positive_class_probs = posterior_probs[:, 1]\n",
    "\n",
    "# Print the posterior probabilities\n",
    "print(\"Posterior Probabilities of making over 50K a year:\")\n",
    "print(positive_class_probs)"
   ]
  }
 ],
 "metadata": {
  "kernelspec": {
   "display_name": "Python 3",
   "language": "python",
   "name": "python3"
  },
  "language_info": {
   "codemirror_mode": {
    "name": "ipython",
    "version": 3
   },
   "file_extension": ".py",
   "mimetype": "text/x-python",
   "name": "python",
   "nbconvert_exporter": "python",
   "pygments_lexer": "ipython3",
   "version": "3.12.0"
  }
 },
 "nbformat": 4,
 "nbformat_minor": 2
}
